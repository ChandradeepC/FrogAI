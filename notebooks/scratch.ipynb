{
 "cells": [
  {
   "cell_type": "code",
   "execution_count": 34,
   "metadata": {},
   "outputs": [
    {
     "name": "stdout",
     "output_type": "stream",
     "text": [
      "The autoreload extension is already loaded. To reload it, use:\n",
      "  %reload_ext autoreload\n"
     ]
    }
   ],
   "source": [
    "%load_ext autoreload\n",
    "%autoreload 2\n",
    "\n",
    "from pathlib import Path\n",
    "\n",
    "home = str(Path.home())\n",
    "import sys\n",
    "import os\n",
    "import json\n",
    "import math\n",
    "\n",
    "sys.path.insert(0, \"..\")\n",
    "\n",
    "import pandas as pd\n",
    "from src.main import MonitorRecommender"
   ]
  },
  {
   "cell_type": "code",
   "execution_count": 26,
   "metadata": {},
   "outputs": [],
   "source": [
    "df = pd.read_excel('../data/monitors.xlsx')"
   ]
  },
  {
   "cell_type": "code",
   "execution_count": 44,
   "metadata": {},
   "outputs": [],
   "source": [
    "input_dict = {\n",
    "    \"pcGpu\": \"4090\",\n",
    "    \"consoles\": \"no\",\n",
    "    \"mac\": \"no\",\n",
    "    \"budget\": 1000,\n",
    "    \"mode\": \"advanced\",\n",
    "    \"casual\": \"not\",\n",
    "    \"comp\": \"not\",\n",
    "    \"text\": \"not\",\n",
    "    \"media\": \"not\",\n",
    "    \"motion\": \"imp\",\n",
    "    \"pq\": \"imp\",\n",
    "    \"sharp\": \"imp\",\n",
    "    \"edit\": \"no\",\n",
    "    \"print\": \"no\",\n",
    "    \"grade\": \"no\",\n",
    "    \"aspect\": \"nopref\",\n",
    "    \"curve\": \"nopref\",\n",
    "    \"size\": \"nopref\",\n",
    "    \"res\": \"nopref\",\n",
    "    \"minRR\": \"nopref\",\n",
    "    \"panel\": \"nopref\",\n",
    "    \"backlight\": \"nopref\",\n",
    "    \"hdr\": \"nopref\"\n",
    "}"
   ]
  },
  {
   "cell_type": "code",
   "execution_count": 45,
   "metadata": {},
   "outputs": [],
   "source": [
    "recommender = MonitorRecommender(input_dict)"
   ]
  },
  {
   "cell_type": "code",
   "execution_count": 46,
   "metadata": {},
   "outputs": [
    {
     "data": {
      "text/plain": [
       "<src.main.MonitorRecommender at 0x13ae894f0>"
      ]
     },
     "execution_count": 46,
     "metadata": {},
     "output_type": "execute_result"
    }
   ],
   "source": [
    "recommender._load()"
   ]
  }
 ],
 "metadata": {
  "kernelspec": {
   "display_name": "Python 3",
   "language": "python",
   "name": "python3"
  },
  "language_info": {
   "codemirror_mode": {
    "name": "ipython",
    "version": 3
   },
   "file_extension": ".py",
   "mimetype": "text/x-python",
   "name": "python",
   "nbconvert_exporter": "python",
   "pygments_lexer": "ipython3",
   "version": "3.9.16"
  },
  "orig_nbformat": 4
 },
 "nbformat": 4,
 "nbformat_minor": 2
}
