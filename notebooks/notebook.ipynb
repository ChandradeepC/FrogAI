{
 "cells": [
  {
   "cell_type": "code",
   "execution_count": 1,
   "metadata": {},
   "outputs": [],
   "source": [
    "%load_ext autoreload\n",
    "%autoreload 2\n",
    "\n",
    "from pathlib import Path\n",
    "home = str(Path.home()) \n",
    "\n",
    "import sys\n",
    "sys.path.insert(0,'..')\n",
    "\n",
    "from src.main import MonitorRecommender\n",
    "import pandas as pd\n",
    "import numpy as np"
   ]
  },
  {
   "cell_type": "code",
   "execution_count": 47,
   "metadata": {},
   "outputs": [],
   "source": [
    "#Predefined inputs from dropdowns or scales\n",
    "input = {\n",
    "    'device': 'mac',\n",
    "    'gpu': None,\n",
    "    'budget': 400,\n",
    "    'comp': 'never',\n",
    "    'sdrcas': 'frequently',\n",
    "    'hdrcas': 'never',\n",
    "    'text': 'sometimes',\n",
    "    'sdrmov': 'mostly',\n",
    "    'hdrmov': 'sometimes',\n",
    "    'digpic': 'no idea',\n",
    "    'printpic': 'no idea',\n",
    "    'sdrvid': 'never',\n",
    "    'hdrvid': 'never',\n",
    "    'aspect': 'ultrawide',\n",
    "    'curve': 'no'\n",
    "    }\n",
    "\n",
    "recommender = MonitorRecommender(input)"
   ]
  },
  {
   "cell_type": "code",
   "execution_count": 48,
   "metadata": {},
   "outputs": [
    {
     "data": {
      "text/plain": [
       "<src.main.MonitorRecommender at 0x135abe1f0>"
      ]
     },
     "execution_count": 48,
     "metadata": {},
     "output_type": "execute_result"
    }
   ],
   "source": [
    "recommender._load_data('jack')"
   ]
  },
  {
   "cell_type": "code",
   "execution_count": 49,
   "metadata": {},
   "outputs": [
    {
     "data": {
      "text/plain": [
       "{'jack': [Monitor(name='Nubia RedMagic', res='3840x2160', rr='160hz', panel='IPS miniLED', size='27\"', cost='870.0', min_gpu='2080ti', special='nan', reviews='https://www.youtube.com/watch?v=AHJ0yUUuPkE'),\n",
       "  Monitor(name='Innocn 27M2V', res='3840x2160', rr='160hz', panel='IPS miniLED', size='27\"', cost='800.0', min_gpu='2080ti', special='somewhat buggy firmware', reviews='https://chimolog.co/bto-gaming-monitor-innocn-27m2v/'),\n",
       "  Monitor(name='CoolerMaster GP27U', res='3840x2160', rr='160hz', panel='IPS miniLED', size='27\"', cost='800.0', min_gpu='2080ti', special='VRR+HDR flickering', reviews='https://www.rtings.com/monitor/reviews/cooler-master/tempest-gp27u https://www.youtube.com/watch?v=z9tLaKdOdkQ'),\n",
       "  Monitor(name='Samsung Neo G8', res='3840x2160', rr='240hz', panel='VA miniLED', size='32\"', cost='1300.0', min_gpu='2080ti', special='scanlines + poor cooling + firmware bugs (maybe fixed)', reviews='https://www.rtings.com/monitor/reviews/samsung/odyssey-neo-g8-s32bg85 https://www.youtube.com/watch?v=SFBM-djS2d8'),\n",
       "  Monitor(name='Samsung Neo G7', res='3840x2160', rr='165hz', panel='VA miniLED', size='32\"', cost='1300.0', min_gpu='2080ti', special='scanlines + poor cooling + firmware bugs (maybe fixed)', reviews='https://www.rtings.com/monitor/reviews/samsung/odyssey-neo-g7-s32bg75 https://www.youtube.com/watch?v=SMcABSuKAK0')]}"
      ]
     },
     "execution_count": 49,
     "metadata": {},
     "output_type": "execute_result"
    }
   ],
   "source": [
    "recommender._data"
   ]
  },
  {
   "cell_type": "code",
   "execution_count": null,
   "metadata": {},
   "outputs": [],
   "source": []
  }
 ],
 "metadata": {
  "kernelspec": {
   "display_name": "Python 3",
   "language": "python",
   "name": "python3"
  },
  "language_info": {
   "codemirror_mode": {
    "name": "ipython",
    "version": 3
   },
   "file_extension": ".py",
   "mimetype": "text/x-python",
   "name": "python",
   "nbconvert_exporter": "python",
   "pygments_lexer": "ipython3",
   "version": "3.9.16"
  },
  "orig_nbformat": 4,
  "vscode": {
   "interpreter": {
    "hash": "a665b5d41d17b532ea9890333293a1b812fa0b73c9c25c950b3cedf1bebd0438"
   }
  }
 },
 "nbformat": 4,
 "nbformat_minor": 2
}
