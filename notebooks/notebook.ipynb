{
 "cells": [
  {
   "cell_type": "code",
   "execution_count": 1,
   "metadata": {},
   "outputs": [],
   "source": [
    "%load_ext autoreload\n",
    "%autoreload 2\n",
    "\n",
    "from pathlib import Path\n",
    "home = str(Path.home()) \n",
    "\n",
    "import sys\n",
    "sys.path.insert(0,'..')\n",
    "\n",
    "from src.main import MonitorRecommender\n",
    "import pandas as pd\n",
    "import numpy as np"
   ]
  },
  {
   "cell_type": "code",
   "execution_count": 90,
   "metadata": {},
   "outputs": [],
   "source": [
    "#Predefined inputs from dropdowns or scales\n",
    "input = {\n",
    "    'mac': 'no',\n",
    "    'console': 'series_s',\n",
    "    'pc': '4090',\n",
    "    'budget': 400,\n",
    "    'comp': 'never',\n",
    "    'cas': 'frequently',\n",
    "    'text': 'sometimes',\n",
    "    'media': 'very',\n",
    "    'pic': 'no idea',\n",
    "    'print': 'no idea',\n",
    "    'vid': 'never',\n",
    "    'aspect': 'ultrawide',\n",
    "    'curve': 'no',\n",
    "    'size': 27\n",
    "    }\n",
    "\n",
    "recommender = MonitorRecommender(input)"
   ]
  },
  {
   "cell_type": "code",
   "execution_count": 91,
   "metadata": {},
   "outputs": [
    {
     "data": {
      "text/plain": [
       "<src.main.MonitorRecommender at 0x136457070>"
      ]
     },
     "execution_count": 91,
     "metadata": {},
     "output_type": "execute_result"
    }
   ],
   "source": [
    "recommender._load_data('motion')\n",
    "recommender._load_data('jack')\n",
    "recommender._load_data('text')"
   ]
  },
  {
   "cell_type": "code",
   "execution_count": 89,
   "metadata": {},
   "outputs": [
    {
     "data": {
      "text/plain": [
       "'console+pc'"
      ]
     },
     "execution_count": 89,
     "metadata": {},
     "output_type": "execute_result"
    }
   ],
   "source": [
    "recommender._classify_platform()\n",
    "recommender._type"
   ]
  },
  {
   "cell_type": "code",
   "execution_count": 92,
   "metadata": {},
   "outputs": [
    {
     "data": {
      "text/plain": [
       "{'motion': [Monitor(name='Dell S2522HG', res='1920x1080p', rr='240hz', panel='IPS', size='25', cost='150', min_gpu='1060_6gb', curve='no',aspect='wide', special='nan', reviews='https://www.youtube.com/watch?v=PPN-6EJs3Q4'),\n",
       "  Monitor(name='Viewsonic XG2431', res='1920x1080p', rr='240hz', panel='IPS', size='24', cost='280', min_gpu='1060_6gb', curve='no',aspect='wide', special='decent strobing', reviews='https://www.rtings.com/monitor/reviews/viewsonic/xg2431 https://www.youtube.com/watch?v=TdTwRDa9URo'),\n",
       "  Monitor(name='BenQ XL2566K', res='1920x1080p', rr='360hz', panel='TN', size='25', cost='600', min_gpu='1060_6gb', curve='no',aspect='wide', special='great strobing', reviews='https://www.rtings.com/monitor/reviews/viewsonic/xg2431 https://www.youtube.com/watch?v=TdTwRDa9URo'),\n",
       "  Monitor(name='Dell AW2524H', res='1920x1080p', rr='500hz', panel='IPS', size='25', cost='830', min_gpu='1060_6gb', curve='no',aspect='wide', special='nan', reviews='https://www.rtings.com/monitor/reviews/viewsonic/xg2431 https://www.youtube.com/watch?v=TdTwRDa9URo')],\n",
       " 'jack': [Monitor(name='Nubia RedMagic', res='3840x2160p', rr='160hz', panel='IPS miniLED 1152zones', size='27', cost='870', min_gpu='ps5', curve='no',aspect='wide', special='nan', reviews='https://www.youtube.com/watch?v=AHJ0yUUuPkE'),\n",
       "  Monitor(name='Innocn 27M2V', res='3840x2160p', rr='160hz', panel='IPS miniLED 1152zones', size='27', cost='800', min_gpu='ps5', curve='no',aspect='wide', special='somewhat buggy firmware', reviews='https://chimolog.co/bto-gaming-monitor-innocn-27m2v/'),\n",
       "  Monitor(name='CoolerMaster GP27U', res='3840x2160p', rr='160hz', panel='IPS miniLED 576zones', size='27', cost='800', min_gpu='ps5', curve='no',aspect='wide', special='VRR+HDR flickering', reviews='https://www.rtings.com/monitor/reviews/cooler-master/tempest-gp27u https://www.youtube.com/watch?v=z9tLaKdOdkQ')],\n",
       " 'text': [Monitor(name='Dell S2721D(S)', res='2560x1440p', rr='75hz', panel='IPS', size='27', cost='250', min_gpu='floor', curve='no',aspect='wide', special='S variant has adjustable stand', reviews=' https://www.rtings.com/monitor/reviews/dell/s2721d'),\n",
       "  Monitor(name='Dell S2721Q(S)', res='3840x2160p', rr='60hz', panel='IPS', size='27', cost='300', min_gpu='floor', curve='no',aspect='wide', special='S variant has adjustable stand', reviews=' https://www.rtings.com/monitor/reviews/dell/s2721qs'),\n",
       "  Monitor(name='Dell S2722QC', res='3840x2160p', rr='60hz', panel='IPS', size='27', cost='400', min_gpu='floor', curve='no',aspect='wide', special='type-c hub with 65W charging', reviews=' https://www.rtings.com/monitor/reviews/dell/s2721qs'),\n",
       "  Monitor(name='Asus PA279CV', res='3840x2160p', rr='60hz', panel='IPS', size='27', cost='450', min_gpu='floor', curve='no',aspect='wide', special=' type-c hub with 65W charging and factory calibrated', reviews=' https://www.youtube.com/watch?v=kPBZPfEfA9Y'),\n",
       "  Monitor(name='Asus PA279CRV', res='3840x2160p', rr='60hz', panel='IPS', size='27', cost='500', min_gpu='floor', curve='no',aspect='wide', special=' type-c hub with 96W charging and factory calibrated', reviews=' https://www.youtube.com/watch?v=kPBZPfEfA9Y'),\n",
       "  Monitor(name='LG 32UN650', res='3840x2160p', rr='60hz', panel='IPS', size='32', cost='450', min_gpu='floor', curve='no',aspect='wide', special='nan', reviews='nan'),\n",
       "  Monitor(name='Asus PA329CV', res='3840x2160p', rr='60hz', panel='IPS', size='32', cost='700', min_gpu='floor', curve='no',aspect='wide', special=' type-c hub with 65W charging and factory calibrated', reviews='nan'),\n",
       "  Monitor(name='Dell U2723QE', res='3840x2160p', rr='60hz', panel='IPS Black', size='27', cost='600', min_gpu='floor', curve='no',aspect='wide', special='type-c and ethernet hub with 90W charging', reviews=' https://www.rtings.com/monitor/reviews/dell/u2723qe'),\n",
       "  Monitor(name='Dell U3223QE', res='3840x2160p', rr='60hz', panel='IPS Black', size='32', cost='600', min_gpu='floor', curve='no',aspect='wide', special='type-c and ethernet hub with 90W charging', reviews=' https://www.rtings.com/monitor/reviews/dell/u3223qe'),\n",
       "  Monitor(name='LG UlraFine 5K', res='5120x2880p', rr='60hz', panel='IPS', size='27', cost='1300', min_gpu='floor', curve='no',aspect='wide', special=' type-c hub with 96W charging and factory calibrated and glossy', reviews='nan'),\n",
       "  Monitor(name='Apple Studio Display', res='5120x2880p', rr='60hz', panel='IPS', size='27', cost='1600', min_gpu='floor', curve='no',aspect='wide', special=' type-c hub with 96W charging and factory calibrated and glossy', reviews=' https://www.rtings.com/monitor/reviews/apple/studio-display'),\n",
       "  Monitor(name='Apple Pro Display XDR', res='6016x3384p', rr='60hz', panel='IPS FALD', size='32', cost='5000', min_gpu='floor', curve='no',aspect='wide', special=' type-c hub with 96W charging and factory calibrated and glossy', reviews='nan')]}"
      ]
     },
     "execution_count": 92,
     "metadata": {},
     "output_type": "execute_result"
    }
   ],
   "source": [
    "recommender._data"
   ]
  },
  {
   "cell_type": "code",
   "execution_count": null,
   "metadata": {},
   "outputs": [],
   "source": []
  }
 ],
 "metadata": {
  "kernelspec": {
   "display_name": "Python 3",
   "language": "python",
   "name": "python3"
  },
  "language_info": {
   "codemirror_mode": {
    "name": "ipython",
    "version": 3
   },
   "file_extension": ".py",
   "mimetype": "text/x-python",
   "name": "python",
   "nbconvert_exporter": "python",
   "pygments_lexer": "ipython3",
   "version": "3.9.16"
  },
  "orig_nbformat": 4,
  "vscode": {
   "interpreter": {
    "hash": "a665b5d41d17b532ea9890333293a1b812fa0b73c9c25c950b3cedf1bebd0438"
   }
  }
 },
 "nbformat": 4,
 "nbformat_minor": 2
}
