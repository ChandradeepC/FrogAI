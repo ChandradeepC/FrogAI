{
 "cells": [
  {
   "cell_type": "code",
   "execution_count": 143,
   "metadata": {},
   "outputs": [
    {
     "name": "stdout",
     "output_type": "stream",
     "text": [
      "The autoreload extension is already loaded. To reload it, use:\n",
      "  %reload_ext autoreload\n"
     ]
    }
   ],
   "source": [
    "%load_ext autoreload\n",
    "%autoreload 2\n",
    "\n",
    "from pathlib import Path\n",
    "home = str(Path.home()) \n",
    "\n",
    "import sys\n",
    "sys.path.insert(0,'..')\n",
    "\n",
    "from src.main import MonitorRecommender\n",
    "import pandas as pd\n",
    "import numpy as np"
   ]
  },
  {
   "cell_type": "code",
   "execution_count": 159,
   "metadata": {},
   "outputs": [],
   "source": [
    "#Predefined inputs from dropdowns or scales\n",
    "input = {\n",
    "    'mac': 'yes',\n",
    "    'console': 'no',\n",
    "    'pc': 'no',\n",
    "    'budget': 400,\n",
    "    'comp': 'not',\n",
    "    'cas': 'imp',\n",
    "    'text': 'some',\n",
    "    'media': 'very',\n",
    "    'pic_vid': 'not',\n",
    "    'print': 'not',\n",
    "    'color': 'yes',\n",
    "    'aspect': 'ultrawide',\n",
    "    'curve': 'no',\n",
    "    'size': 27,\n",
    "    'res': '3840x2160'\n",
    "    }\n",
    "\n",
    "recommender = MonitorRecommender(input)"
   ]
  },
  {
   "cell_type": "code",
   "execution_count": 160,
   "metadata": {},
   "outputs": [
    {
     "name": "stdout",
     "output_type": "stream",
     "text": [
      "loadedjack\n",
      "loadedgrading\n",
      "loadedmotion_text\n",
      "loadedmotion\n",
      "loadedpq_motion\n",
      "loadedpq_text\n",
      "loadedpq\n",
      "loadedprint\n",
      "loadedtext\n"
     ]
    },
    {
     "data": {
      "text/plain": [
       "[Monitor(name='LG 32ep950', res='3840x2160', rr='60hz', panel='Inkjet OLED', size='32', cost='2800', min_gpu='floor', curve='no',aspect='wide', special='hardware calibration + sdr only', reviews=' https://www.youtube.com/watch?v=5A0S1wDwR3k'),\n",
       " Monitor(name='Asus PA32DC', res='3840x2160', rr='60hz', panel='Inkjet OLED', size='32', cost='2800', min_gpu='floor', curve='no',aspect='wide', special='hardware calibration + sdr only', reviews='nan'),\n",
       " Monitor(name='Asus PA32UCG-K', res='3840x2160', rr='120hz', panel='IPS miniLED 1152zones', size='32', cost='3000', min_gpu='floor', curve='no',aspect='wide', special='hardware calibration', reviews='nan'),\n",
       " Monitor(name='Apple Pro Display XDR', res='6016x3384', rr='60hz', panel='IPS FALD', size='32', cost='5000', min_gpu='floor', curve='no',aspect='wide', special=' hardware calibration', reviews=' https://www.youtube.com/watch?v=rtd7UzLJHrU')]"
      ]
     },
     "execution_count": 160,
     "metadata": {},
     "output_type": "execute_result"
    }
   ],
   "source": [
    "recommender.recommend()"
   ]
  },
  {
   "cell_type": "code",
   "execution_count": null,
   "metadata": {},
   "outputs": [],
   "source": []
  }
 ],
 "metadata": {
  "kernelspec": {
   "display_name": "Python 3",
   "language": "python",
   "name": "python3"
  },
  "language_info": {
   "codemirror_mode": {
    "name": "ipython",
    "version": 3
   },
   "file_extension": ".py",
   "mimetype": "text/x-python",
   "name": "python",
   "nbconvert_exporter": "python",
   "pygments_lexer": "ipython3",
   "version": "3.9.16"
  },
  "orig_nbformat": 4,
  "vscode": {
   "interpreter": {
    "hash": "a665b5d41d17b532ea9890333293a1b812fa0b73c9c25c950b3cedf1bebd0438"
   }
  }
 },
 "nbformat": 4,
 "nbformat_minor": 2
}
