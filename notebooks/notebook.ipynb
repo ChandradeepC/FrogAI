{
 "cells": [
  {
   "cell_type": "code",
   "execution_count": 1,
   "metadata": {},
   "outputs": [],
   "source": [
    "%load_ext autoreload\n",
    "%autoreload 2\n",
    "\n",
    "from pathlib import Path\n",
    "home = str(Path.home()) \n",
    "\n",
    "import sys\n",
    "sys.path.insert(0,'..')\n",
    "\n",
    "from src.main import MonitorRecommender"
   ]
  },
  {
   "cell_type": "code",
   "execution_count": 14,
   "metadata": {},
   "outputs": [],
   "source": [
    "#Predefined inputs from dropdowns or scales\n",
    "input = {\n",
    "    #device\n",
    "    'mac': 'yes',\n",
    "    'console': 'no',\n",
    "    'pc': 'no',\n",
    "    'budget': 2000,\n",
    "\n",
    "    #characteristics\n",
    "    'motion': 'not',\n",
    "    'pq': 'not',\n",
    "    'sharp': 'imp',\n",
    "\n",
    "    #special uses,\n",
    "    'edit': 'no',\n",
    "    'print': 'no',\n",
    "    'grade': 'no',\n",
    "\n",
    "    #optional filters\n",
    "    'aspect': 'nopref',\n",
    "    'curve': 'nopref',\n",
    "    'size': 'nopref',\n",
    "    'res': 'nopref',\n",
    "    'min_rr': 'nopref',\n",
    "    'panel': 'nopref',\n",
    "    'backlight': 'nopref'\n",
    "    }\n",
    "\n",
    "recommender = MonitorRecommender(input)"
   ]
  },
  {
   "cell_type": "code",
   "execution_count": 15,
   "metadata": {},
   "outputs": [
    {
     "data": {
      "text/plain": [
       "[Monitor(name=Dell S2522HG, res=1920x1080p, rr=240, panel=IPS, size=25, cost=150, min_gpu=floor, curve=no, aspect=wide, special=nan, reviews=['https://www.youtube.com/watch?v=PPN-6EJs3Q4']),\n",
       " Monitor(name=Dell S2721D(S), res=2560x1440p, rr=75, panel=IPS, size=27, cost=250, min_gpu=floor, curve=no, aspect=wide, special=S variant has adjustable stand, reviews=['https://www.rtings.com/monitor/reviews/dell/s2721d']),\n",
       " Monitor(name=Dell S2721Q(S), res=3840x2160p, rr=60, panel=IPS, size=27, cost=300, min_gpu=floor, curve=no, aspect=wide, special=S variant has adjustable stand, reviews=['https://www.rtings.com/monitor/reviews/dell/s2721qs']),\n",
       " Monitor(name=Dell S2722QC, res=3840x2160p, rr=60, panel=IPS, size=27, cost=400, min_gpu=floor, curve=no, aspect=wide, special=type-c hub with 65W charging, reviews=['https://www.rtings.com/monitor/reviews/dell/s2721qs']),\n",
       " Monitor(name=LG 34WQ75C, res=3440x1440p, rr=60, panel=IPS, size=34, cost=450, min_gpu=floor, curve=yes, aspect=ultrawide, special=type-c hub with 65W charging, reviews=[]),\n",
       " Monitor(name=Asus PA279CV, res=3840x2160p, rr=60, panel=IPS, size=27, cost=450, min_gpu=floor, curve=no, aspect=wide, special= type-c hub with 65W charging and factory calibrated, reviews=['https://www.youtube.com/watch?v=kPBZPfEfA9Y']),\n",
       " Monitor(name=LG 34WQ73A, res=3440x1440p, rr=60, panel=IPS, size=34, cost=480, min_gpu=floor, curve=yes, aspect=ultrawide, special=type-c hub with 90W charging, reviews=[]),\n",
       " Monitor(name=Asus PA279CRV, res=3840x2160p, rr=60, panel=IPS, size=27, cost=500, min_gpu=floor, curve=no, aspect=wide, special= type-c hub with 96W charging and factory calibrated, reviews=['https://www.youtube.com/watch?v=kPBZPfEfA9Y']),\n",
       " Monitor(name=LG 32UN650, res=3840x2160p, rr=60, panel=IPS, size=32, cost=450, min_gpu=floor, curve=no, aspect=wide, special=nan, reviews=[]),\n",
       " Monitor(name=LG DualUp 27MQ750, res=2560x2880p, rr=60, panel=IPS, size=28, cost=600, min_gpu=floor, curve=no, aspect=tall, special=type-c hub with 90W usb-c charging, reviews=[]),\n",
       " Monitor(name=Dell U2723QE, res=3840x2160p, rr=60, panel=IPS Black, size=27, cost=600, min_gpu=floor, curve=no, aspect=wide, special=type-c and ethernet hub with 90W charging, reviews=['https://www.rtings.com/monitor/reviews/dell/u2723qe']),\n",
       " Monitor(name=Asus PA329CV, res=3840x2160p, rr=60, panel=IPS, size=32, cost=700, min_gpu=floor, curve=no, aspect=wide, special= type-c hub with 65W charging and factory calibrated, reviews=[]),\n",
       " Monitor(name=Dell U3223QE, res=3840x2160p, rr=60, panel=IPS Black, size=32, cost=850, min_gpu=floor, curve=no, aspect=wide, special=type-c and ethernet hub with 90W charging, reviews=['https://www.rtings.com/monitor/reviews/dell/u3223qe']),\n",
       " Monitor(name=LG UlraFine 5K, res=5120x2880p, rr=60, panel=IPS, size=27, cost=1300, min_gpu=floor, curve=no, aspect=wide, special= type-c hub with 96W charging and factory calibrated and glossy, reviews=[]),\n",
       " Monitor(name=LG 38WN95C, res=3840x1600p, rr=144, panel=IPS, size=38, cost=1400, min_gpu=floor, curve=yes, aspect=ultrawide, special=type-c hub with 90W charging, reviews=[]),\n",
       " Monitor(name=Apple Studio Display, res=5120x2880p, rr=60, panel=IPS, size=27, cost=1600, min_gpu=floor, curve=no, aspect=wide, special= type-c hub with 96W charging and factory calibrated and glossy, reviews=['https://www.rtings.com/monitor/reviews/apple/studio-display'])]"
      ]
     },
     "execution_count": 15,
     "metadata": {},
     "output_type": "execute_result"
    }
   ],
   "source": [
    "recommender.recommend()"
   ]
  }
 ],
 "metadata": {
  "kernelspec": {
   "display_name": "Python 3",
   "language": "python",
   "name": "python3"
  },
  "language_info": {
   "codemirror_mode": {
    "name": "ipython",
    "version": 3
   },
   "file_extension": ".py",
   "mimetype": "text/x-python",
   "name": "python",
   "nbconvert_exporter": "python",
   "pygments_lexer": "ipython3",
   "version": "3.9.16"
  },
  "orig_nbformat": 4,
  "vscode": {
   "interpreter": {
    "hash": "a665b5d41d17b532ea9890333293a1b812fa0b73c9c25c950b3cedf1bebd0438"
   }
  }
 },
 "nbformat": 4,
 "nbformat_minor": 2
}
