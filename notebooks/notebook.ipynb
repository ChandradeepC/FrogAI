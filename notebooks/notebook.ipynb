{
 "cells": [
  {
   "cell_type": "code",
   "execution_count": 1,
   "metadata": {},
   "outputs": [],
   "source": [
    "%load_ext autoreload\n",
    "%autoreload 2\n",
    "\n",
    "from pathlib import Path\n",
    "home = str(Path.home()) \n",
    "\n",
    "import sys\n",
    "sys.path.insert(0,'..')\n",
    "\n",
    "from src.main import MonitorRecommender\n",
    "import pandas as pd\n",
    "import numpy as np"
   ]
  },
  {
   "cell_type": "code",
   "execution_count": 23,
   "metadata": {},
   "outputs": [],
   "source": [
    "#Predefined inputs from dropdowns or scales\n",
    "input = {\n",
    "    'device': 'mac',\n",
    "    'gpu': None,\n",
    "    'budget': 400,\n",
    "    'comp': 'never',\n",
    "    'sdrcas': 'frequently',\n",
    "    'hdrcas': 'never',\n",
    "    'text': 'sometimes',\n",
    "    'sdrmov': 'mostly',\n",
    "    'hdrmov': 'sometimes',\n",
    "    'digpic': 'no idea',\n",
    "    'printpic': 'no idea',\n",
    "    'sdrvid': 'never',\n",
    "    'hdrvid': 'never',\n",
    "    'aspect': 'ultrawide',\n",
    "    'curve': 'no'\n",
    "    }\n",
    "\n",
    "recommender = MonitorRecommender(input)"
   ]
  },
  {
   "cell_type": "code",
   "execution_count": 24,
   "metadata": {},
   "outputs": [
    {
     "data": {
      "text/plain": [
       "<src.main.MonitorRecommender at 0x135f70df0>"
      ]
     },
     "execution_count": 24,
     "metadata": {},
     "output_type": "execute_result"
    }
   ],
   "source": [
    "recommender._load_data(dim='motion')"
   ]
  },
  {
   "cell_type": "code",
   "execution_count": 25,
   "metadata": {},
   "outputs": [
    {
     "data": {
      "text/plain": [
       "{'motion': [Monitor(name='AW3423DW', res='3440x1440', rr='175', panel='QD-OLED', size='34', cost='1300', min_gpu='3070', special='nan', reviews='rtings.com')]}"
      ]
     },
     "execution_count": 25,
     "metadata": {},
     "output_type": "execute_result"
    }
   ],
   "source": [
    "recommender._data"
   ]
  },
  {
   "cell_type": "code",
   "execution_count": null,
   "metadata": {},
   "outputs": [],
   "source": []
  }
 ],
 "metadata": {
  "kernelspec": {
   "display_name": "Python 3",
   "language": "python",
   "name": "python3"
  },
  "language_info": {
   "codemirror_mode": {
    "name": "ipython",
    "version": 3
   },
   "file_extension": ".py",
   "mimetype": "text/x-python",
   "name": "python",
   "nbconvert_exporter": "python",
   "pygments_lexer": "ipython3",
   "version": "3.9.16"
  },
  "orig_nbformat": 4,
  "vscode": {
   "interpreter": {
    "hash": "a665b5d41d17b532ea9890333293a1b812fa0b73c9c25c950b3cedf1bebd0438"
   }
  }
 },
 "nbformat": 4,
 "nbformat_minor": 2
}
