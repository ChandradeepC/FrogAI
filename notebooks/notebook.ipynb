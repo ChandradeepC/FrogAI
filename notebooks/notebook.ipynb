{
 "cells": [
  {
   "cell_type": "code",
   "execution_count": 1,
   "metadata": {},
   "outputs": [],
   "source": [
    "%load_ext autoreload\n",
    "%autoreload 2\n",
    "\n",
    "from pathlib import Path\n",
    "home = str(Path.home()) \n",
    "\n",
    "import sys\n",
    "sys.path.insert(0,'..')\n",
    "\n",
    "from src.main import MonitorRecommender\n",
    "import pandas as pd\n",
    "import numpy as np"
   ]
  },
  {
   "cell_type": "code",
   "execution_count": 6,
   "metadata": {},
   "outputs": [],
   "source": [
    "#Predefined inputs from dropdowns or scales\n",
    "input = {\n",
    "    #device\n",
    "    'mac': 'yes',\n",
    "    'console': 'no',\n",
    "    'pc': 'no',\n",
    "    'budget': 2000,\n",
    "\n",
    "    #characteristics\n",
    "    'motion': 'only',\n",
    "    'pq': 'not',\n",
    "    'sharp': 'not',\n",
    "\n",
    "    #special uses,\n",
    "    'edit': 'no',\n",
    "    'print': 'no',\n",
    "    'grade': 'no',\n",
    "\n",
    "    #optional filters\n",
    "    'aspect': 'nopref',\n",
    "    'curve': 'nopref',\n",
    "    'size': 'nopref',\n",
    "    'res': 'nopref',\n",
    "    'min_rr': 'nopref',\n",
    "    'panel': 'nopref',\n",
    "    'backlight': 'nopref'\n",
    "    }\n",
    "\n",
    "recommender = MonitorRecommender(input)"
   ]
  },
  {
   "cell_type": "code",
   "execution_count": 7,
   "metadata": {},
   "outputs": [
    {
     "data": {
      "text/plain": [
       "[Monitor(name='Dell S2522HG', res='1920x1080p', rr='240', panel='IPS', size='25', cost='150', min_gpu='1060_6gb', curve='no',aspect='wide', special='nan', reviews=' https://www.youtube.com/watch?v=PPN-6EJs3Q4'),\n",
       " Monitor(name='Viewsonic XG2431', res='1920x1080p', rr='240', panel='IPS', size='24', cost='280', min_gpu='1060_6gb', curve='no',aspect='wide', special='decent strobing', reviews=' https://www.rtings.com/monitor/reviews/viewsonic/xg2431 https://www.youtube.com/watch?v=TdTwRDa9URo'),\n",
       " Monitor(name='Acer AOPEN 25XV2Q', res='1920x1080p', rr='390', panel='IPS', size='25', cost='300', min_gpu='1060_6gb', curve='no',aspect='wide', special='nan', reviews=' https://www.youtube.com/watch?v=x7PDKjUhi_I'),\n",
       " Monitor(name='BenQ XL2566K', res='1920x1080p', rr='360', panel='TN', size='25', cost='600', min_gpu='1060_6gb', curve='no',aspect='wide', special='great strobing', reviews=' https://www.youtube.com/watch?v=ts_O8pFgYQg https://www.rtings.com/monitor/reviews/benq/zowie-xl2566k'),\n",
       " Monitor(name='Dell AW2524H', res='1920x1080p', rr='500', panel='IPS', size='25', cost='830', min_gpu='1060_6gb', curve='no',aspect='wide', special='nan', reviews=' https://www.youtube.com/watch?v=Ewo8tt6bgZU')]"
      ]
     },
     "execution_count": 7,
     "metadata": {},
     "output_type": "execute_result"
    }
   ],
   "source": [
    "recommender.recommend()"
   ]
  }
 ],
 "metadata": {
  "kernelspec": {
   "display_name": "Python 3",
   "language": "python",
   "name": "python3"
  },
  "language_info": {
   "codemirror_mode": {
    "name": "ipython",
    "version": 3
   },
   "file_extension": ".py",
   "mimetype": "text/x-python",
   "name": "python",
   "nbconvert_exporter": "python",
   "pygments_lexer": "ipython3",
   "version": "3.9.16"
  },
  "orig_nbformat": 4,
  "vscode": {
   "interpreter": {
    "hash": "a665b5d41d17b532ea9890333293a1b812fa0b73c9c25c950b3cedf1bebd0438"
   }
  }
 },
 "nbformat": 4,
 "nbformat_minor": 2
}
