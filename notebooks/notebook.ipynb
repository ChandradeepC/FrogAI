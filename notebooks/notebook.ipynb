{
 "cells": [
  {
   "cell_type": "code",
   "execution_count": 1,
   "metadata": {},
   "outputs": [],
   "source": [
    "%load_ext autoreload\n",
    "%autoreload 2\n",
    "\n",
    "from pathlib import Path\n",
    "home = str(Path.home()) \n",
    "\n",
    "import sys\n",
    "sys.path.insert(0,'..')\n",
    "\n",
    "from src.main import MonitorRecommender\n",
    "import pandas as pd\n",
    "import numpy as np"
   ]
  },
  {
   "cell_type": "code",
   "execution_count": 131,
   "metadata": {},
   "outputs": [],
   "source": [
    "#Predefined inputs from dropdowns or scales\n",
    "input = {\n",
    "    'mac': 'no',\n",
    "    'console': 'series_s',\n",
    "    'pc': '4090',\n",
    "    'budget': 400,\n",
    "    'comp': 'never',\n",
    "    'cas': 'frequently',\n",
    "    'text': 'sometimes',\n",
    "    'media': 'very',\n",
    "    'pic': 'no idea',\n",
    "    'print': 'no idea',\n",
    "    'vid': 'never',\n",
    "    'aspect': 'ultrawide',\n",
    "    'curve': 'no',\n",
    "    'size': 27,\n",
    "    'res': '3840x2160'\n",
    "    }\n",
    "\n",
    "recommender = MonitorRecommender(input)"
   ]
  },
  {
   "cell_type": "code",
   "execution_count": 135,
   "metadata": {},
   "outputs": [
    {
     "data": {
      "text/plain": [
       "<src.main.MonitorRecommender at 0x13655b970>"
      ]
     },
     "execution_count": 135,
     "metadata": {},
     "output_type": "execute_result"
    }
   ],
   "source": [
    "recommender._load_data('print')"
   ]
  },
  {
   "cell_type": "code",
   "execution_count": 136,
   "metadata": {},
   "outputs": [
    {
     "data": {
      "text/plain": [
       "'console+pc'"
      ]
     },
     "execution_count": 136,
     "metadata": {},
     "output_type": "execute_result"
    }
   ],
   "source": [
    "recommender._classify_platform()\n",
    "recommender._type"
   ]
  },
  {
   "cell_type": "code",
   "execution_count": 137,
   "metadata": {},
   "outputs": [
    {
     "data": {
      "text/plain": [
       "{'grading': [Monitor(name='LG 32ep950', res='3840x2160p', rr='60hz', panel='Inkjet OLED', size='32', cost='2800', min_gpu='ps5', curve='no',aspect='wide', special='hardware calibration + sdr only', reviews=' https://www.youtube.com/watch?v=5A0S1wDwR3k'),\n",
       "  Monitor(name='Asus PA32DC', res='3840x2160p', rr='60hz', panel='Inkjet OLED', size='32', cost='2800', min_gpu='ps5', curve='no',aspect='wide', special='hardware calibration + sdr only', reviews='nan'),\n",
       "  Monitor(name='Asus PA32UCG-K', res='3840x2160p', rr='120hz', panel='IPS miniLED 1152zones', size='32', cost='3000', min_gpu='ps5', curve='no',aspect='wide', special='hardware calibration', reviews='nan'),\n",
       "  Monitor(name='Apple Pro Display XDR', res='6016x3384p', rr='60hz', panel='IPS FALD', size='32', cost='5000', min_gpu='floor', curve='no',aspect='wide', special=' hardware calibration', reviews=' https://www.youtube.com/watch?v=rtd7UzLJHrU')],\n",
       " 'print': [Monitor(name='MSI MAG274QRF-QD', res='2560x1440p', rr='165hz', panel='IPS', size='27', cost='350', min_gpu='floor', curve='no',aspect='wide', special='100% Adobe RGB', reviews=' https://www.youtube.com/watch?v=i3X3yFh0-gE https://www.rtings.com/monitor/reviews/msi/optix-mag274qrf-qd'),\n",
       "  Monitor(name='Asus PA279CRV', res='3840x2160p', rr='60hz', panel='IPS', size='27', cost='500', min_gpu='floor', curve='no',aspect='wide', special=' type-c hub with 96W charging; 100% Adobe RGB', reviews=' https://www.youtube.com/watch?v=kPBZPfEfA9Y'),\n",
       "  Monitor(name='Asus PA329C', res='3840x2160p', rr='60hz', panel='IPS', size='32', cost='1000', min_gpu='floor', curve='no',aspect='wide', special=' type-c hub with 65W; 100% Adobe RGB', reviews='nan'),\n",
       "  Monitor(name='LG 32ep950', res='3840x2160p', rr='60hz', panel='Inkjet OLED', size='32', cost='2800', min_gpu='floor', curve='no',aspect='wide', special='hardware calibration + sdr only', reviews=' https://www.youtube.com/watch?v=5A0S1wDwR3k'),\n",
       "  Monitor(name='Asus PA32DC', res='3840x2160p', rr='60hz', panel='Inkjet OLED', size='32', cost='2800', min_gpu='floor', curve='no',aspect='wide', special='hardware calibration + sdr only', reviews='nan'),\n",
       "  Monitor(name='Asus PA32UCG-K', res='3840x2160p', rr='120hz', panel='IPS miniLED 1152zones', size='32', cost='3000', min_gpu='floor', curve='no',aspect='wide', special='hardware calibration', reviews='nan')]}"
      ]
     },
     "execution_count": 137,
     "metadata": {},
     "output_type": "execute_result"
    }
   ],
   "source": [
    "recommender._data"
   ]
  },
  {
   "cell_type": "code",
   "execution_count": null,
   "metadata": {},
   "outputs": [],
   "source": []
  }
 ],
 "metadata": {
  "kernelspec": {
   "display_name": "Python 3",
   "language": "python",
   "name": "python3"
  },
  "language_info": {
   "codemirror_mode": {
    "name": "ipython",
    "version": 3
   },
   "file_extension": ".py",
   "mimetype": "text/x-python",
   "name": "python",
   "nbconvert_exporter": "python",
   "pygments_lexer": "ipython3",
   "version": "3.9.16"
  },
  "orig_nbformat": 4,
  "vscode": {
   "interpreter": {
    "hash": "a665b5d41d17b532ea9890333293a1b812fa0b73c9c25c950b3cedf1bebd0438"
   }
  }
 },
 "nbformat": 4,
 "nbformat_minor": 2
}
