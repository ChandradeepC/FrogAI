{
 "cells": [
  {
   "cell_type": "code",
   "execution_count": 1,
   "metadata": {},
   "outputs": [],
   "source": [
    "%load_ext autoreload\n",
    "%autoreload 2\n",
    "\n",
    "from pathlib import Path\n",
    "home = str(Path.home()) \n",
    "\n",
    "import sys\n",
    "sys.path.insert(0,'..')\n",
    "\n",
    "from src.main import MonitorRecommender\n",
    "import pandas as pd\n",
    "import numpy as np"
   ]
  },
  {
   "cell_type": "code",
   "execution_count": 106,
   "metadata": {},
   "outputs": [],
   "source": [
    "#Predefined inputs from dropdowns or scales\n",
    "input = {\n",
    "    'mac': 'no',\n",
    "    'console': 'series_s',\n",
    "    'pc': '4090',\n",
    "    'budget': 400,\n",
    "    'comp': 'never',\n",
    "    'cas': 'frequently',\n",
    "    'text': 'sometimes',\n",
    "    'media': 'very',\n",
    "    'pic': 'no idea',\n",
    "    'print': 'no idea',\n",
    "    'vid': 'never',\n",
    "    'aspect': 'ultrawide',\n",
    "    'curve': 'no',\n",
    "    'size': 27\n",
    "    }\n",
    "\n",
    "recommender = MonitorRecommender(input)"
   ]
  },
  {
   "cell_type": "code",
   "execution_count": 107,
   "metadata": {},
   "outputs": [
    {
     "data": {
      "text/plain": [
       "<src.main.MonitorRecommender at 0x136454f70>"
      ]
     },
     "execution_count": 107,
     "metadata": {},
     "output_type": "execute_result"
    }
   ],
   "source": [
    "recommender._load_data('pq_text')"
   ]
  },
  {
   "cell_type": "code",
   "execution_count": 108,
   "metadata": {},
   "outputs": [
    {
     "data": {
      "text/plain": [
       "'console+pc'"
      ]
     },
     "execution_count": 108,
     "metadata": {},
     "output_type": "execute_result"
    }
   ],
   "source": [
    "recommender._classify_platform()\n",
    "recommender._type"
   ]
  },
  {
   "cell_type": "code",
   "execution_count": 109,
   "metadata": {},
   "outputs": [
    {
     "data": {
      "text/plain": [
       "{'pq_text': [Monitor(name='Dell S2722DGM', res='2560x1440p', rr='165hz', panel='VA', size='27', cost='250', min_gpu='5700', curve='yes',aspect='wide', special='nan', reviews=' https://www.rtings.com/monitor/reviews/dell/s2722dgm'),\n",
       "  Monitor(name='Dell S3222DGM', res='2560x1440p', rr='165hz', panel='VA', size='32', cost='300', min_gpu='5700', curve='yes',aspect='wide', special='nan', reviews=' https://www.rtings.com/monitor/reviews/dell/s3222dgm'),\n",
       "  Monitor(name='Dell S3221QS', res='3840x2160p', rr='60hz', panel='VA', size='32', cost='350', min_gpu='5700', curve='yes',aspect='wide', special='nan', reviews=' https://www.rtings.com/monitor/reviews/dell/s3221qs'),\n",
       "  Monitor(name='Dell S3422DWG', res='3440x1440p', rr='144hz', panel='VA', size='34', cost='450', min_gpu='1080ti', curve='yes',aspect='ultrawide', special='nan', reviews=' https://www.rtings.com/monitor/reviews/dell/s3422dwg'),\n",
       "  Monitor(name='KTC M27T20', res='2560x1440p', rr='165hz', panel='VA MiniLED 576zones', size='27', cost='500', min_gpu='5700', curve='no',aspect='wide', special='nan', reviews=' https://www.youtube.com/watch?v=xINKVAGOiAs'),\n",
       "  Monitor(name='Innocn 27M2U', res='3840x2160p', rr='60hz', panel='IPS miniLED 384zones', size='27', cost='700', min_gpu='ps5', curve='no',aspect='wide', special='nan', reviews='https://chimolog.co/bto-gaming-monitor-innocn-m2u/'),\n",
       "  Monitor(name='CoolerMaster GP27U', res='3840x2160p', rr='160hz', panel='IPS miniLED 576zones', size='27', cost='800', min_gpu='ps5', curve='no',aspect='wide', special='VRR+HDR flickering', reviews='https://www.rtings.com/monitor/reviews/cooler-master/tempest-gp27u https://www.youtube.com/watch?v=z9tLaKdOdkQ'),\n",
       "  Monitor(name='KTC M27P20 Pro', res='3840x2160p', rr='160hz', panel='IPS miniLED 576zones', size='27', cost='800', min_gpu='ps5', curve='no',aspect='wide', special='nan', reviews=' https://www.youtube.com/watch?v=xINKVAGOiAs'),\n",
       "  Monitor(name='Innocn 27M2V', res='3840x2160p', rr='160hz', panel='IPS miniLED 1152zones', size='27', cost='800', min_gpu='ps5', curve='no',aspect='wide', special='somewhat buggy firmware', reviews='https://chimolog.co/bto-gaming-monitor-innocn-27m2v/'),\n",
       "  Monitor(name='Nubia RedMagic', res='3840x2160p', rr='160hz', panel='IPS miniLED 1152zones', size='27', cost='870', min_gpu='ps5', curve='no',aspect='wide', special='nan', reviews='https://www.youtube.com/watch?v=AHJ0yUUuPkE'),\n",
       "  Monitor(name='Asus PA32UCG-K', res='3840x2160p', rr='120hz', panel='IPS miniLED 1152zones', size='32', cost='3000', min_gpu='ps5', curve='no',aspect='wide', special='factory calibrated', reviews='nan'),\n",
       "  Monitor(name='Apple Pro Display XDR', res='6016x3384p', rr='60hz', panel='IPS FALD', size='32', cost='5000', min_gpu='floor', curve='no',aspect='wide', special=' type-c hub with 96W charging and factory calibrated and glossy', reviews='nan')]}"
      ]
     },
     "execution_count": 109,
     "metadata": {},
     "output_type": "execute_result"
    }
   ],
   "source": [
    "recommender._data"
   ]
  },
  {
   "cell_type": "code",
   "execution_count": null,
   "metadata": {},
   "outputs": [],
   "source": []
  }
 ],
 "metadata": {
  "kernelspec": {
   "display_name": "Python 3",
   "language": "python",
   "name": "python3"
  },
  "language_info": {
   "codemirror_mode": {
    "name": "ipython",
    "version": 3
   },
   "file_extension": ".py",
   "mimetype": "text/x-python",
   "name": "python",
   "nbconvert_exporter": "python",
   "pygments_lexer": "ipython3",
   "version": "3.9.16"
  },
  "orig_nbformat": 4,
  "vscode": {
   "interpreter": {
    "hash": "a665b5d41d17b532ea9890333293a1b812fa0b73c9c25c950b3cedf1bebd0438"
   }
  }
 },
 "nbformat": 4,
 "nbformat_minor": 2
}
