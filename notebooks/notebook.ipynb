{
 "cells": [
  {
   "cell_type": "code",
   "execution_count": 3,
   "metadata": {},
   "outputs": [],
   "source": [
    "%load_ext autoreload\n",
    "%autoreload 2\n",
    "\n",
    "from pathlib import Path\n",
    "home = str(Path.home()) \n",
    "\n",
    "import sys\n",
    "sys.path.insert(0,'..')\n",
    "\n",
    "from src.main import MonitorRecommender\n",
    "import pandas as pd\n",
    "import numpy as np"
   ]
  },
  {
   "cell_type": "code",
   "execution_count": 29,
   "metadata": {},
   "outputs": [],
   "source": [
    "#Predefined inputs from dropdowns or scales\n",
    "input = {\n",
    "    'mac': 'no',\n",
    "    'console': 'no',\n",
    "    'pc': '3060',\n",
    "    'budget': 500,\n",
    "\n",
    "    'motion': 'only',\n",
    "    'pq': 'not',\n",
    "    'sharp': 'not',\n",
    "\n",
    "    'edit': 'no',\n",
    "    'print': 'no',\n",
    "    'grade': 'no',\n",
    "\n",
    "    'aspect': 'nopref',\n",
    "    'curve': 'nopref',\n",
    "    'size': 'nopref',\n",
    "    'res': 'nopref'\n",
    "    }\n",
    "\n",
    "recommender = MonitorRecommender(input)"
   ]
  },
  {
   "cell_type": "code",
   "execution_count": 30,
   "metadata": {},
   "outputs": [
    {
     "data": {
      "text/plain": [
       "[Monitor(name='Dell S2522HG', res='1920x1080p', rr='240', panel='IPS', size='25', cost='150', min_gpu='1060_6gb', curve='no',aspect='wide', special='nan', reviews='https://www.youtube.com/watch?v=PPN-6EJs3Q4'),\n",
       " Monitor(name='Viewsonic XG2431', res='1920x1080p', rr='240', panel='IPS', size='24', cost='280', min_gpu='1060_6gb', curve='no',aspect='wide', special='decent strobing', reviews='https://www.rtings.com/monitor/reviews/viewsonic/xg2431 https://www.youtube.com/watch?v=TdTwRDa9URo')]"
      ]
     },
     "execution_count": 30,
     "metadata": {},
     "output_type": "execute_result"
    }
   ],
   "source": [
    "recommender.recommend()"
   ]
  }
 ],
 "metadata": {
  "kernelspec": {
   "display_name": "Python 3",
   "language": "python",
   "name": "python3"
  },
  "language_info": {
   "codemirror_mode": {
    "name": "ipython",
    "version": 3
   },
   "file_extension": ".py",
   "mimetype": "text/x-python",
   "name": "python",
   "nbconvert_exporter": "python",
   "pygments_lexer": "ipython3",
   "version": "3.9.16"
  },
  "orig_nbformat": 4,
  "vscode": {
   "interpreter": {
    "hash": "a665b5d41d17b532ea9890333293a1b812fa0b73c9c25c950b3cedf1bebd0438"
   }
  }
 },
 "nbformat": 4,
 "nbformat_minor": 2
}
