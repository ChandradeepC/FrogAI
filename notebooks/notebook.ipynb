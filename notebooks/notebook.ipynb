{
 "cells": [
  {
   "cell_type": "code",
   "execution_count": 1,
   "metadata": {},
   "outputs": [],
   "source": [
    "%load_ext autoreload\n",
    "%autoreload 2\n",
    "\n",
    "from pathlib import Path\n",
    "home = str(Path.home()) \n",
    "\n",
    "import sys\n",
    "sys.path.insert(0,'..')\n",
    "\n",
    "from src.main import MonitorRecommender\n",
    "import pandas as pd\n",
    "import numpy as np"
   ]
  },
  {
   "cell_type": "code",
   "execution_count": 127,
   "metadata": {},
   "outputs": [],
   "source": [
    "#Predefined inputs from dropdowns or scales\n",
    "input = {\n",
    "    'mac': 'no',\n",
    "    'console': 'series_s',\n",
    "    'pc': '4090',\n",
    "    'budget': 400,\n",
    "    'comp': 'never',\n",
    "    'cas': 'frequently',\n",
    "    'text': 'sometimes',\n",
    "    'media': 'very',\n",
    "    'pic': 'no idea',\n",
    "    'print': 'no idea',\n",
    "    'vid': 'never',\n",
    "    'aspect': 'ultrawide',\n",
    "    'curve': 'no',\n",
    "    'size': 27,\n",
    "    'res': '3840x2160'\n",
    "    }\n",
    "\n",
    "recommender = MonitorRecommender(input)"
   ]
  },
  {
   "cell_type": "code",
   "execution_count": 128,
   "metadata": {},
   "outputs": [
    {
     "data": {
      "text/plain": [
       "<src.main.MonitorRecommender at 0x13655a6a0>"
      ]
     },
     "execution_count": 128,
     "metadata": {},
     "output_type": "execute_result"
    }
   ],
   "source": [
    "recommender._load_data('motion_text')"
   ]
  },
  {
   "cell_type": "code",
   "execution_count": 129,
   "metadata": {},
   "outputs": [
    {
     "data": {
      "text/plain": [
       "'console+pc'"
      ]
     },
     "execution_count": 129,
     "metadata": {},
     "output_type": "execute_result"
    }
   ],
   "source": [
    "recommender._classify_platform()\n",
    "recommender._type"
   ]
  },
  {
   "cell_type": "code",
   "execution_count": 130,
   "metadata": {},
   "outputs": [
    {
     "data": {
      "text/plain": [
       "{'motion_text': [Monitor(name='MSI G273Q(P)F', res='2560x1440p', rr='165hz', panel='IPS', size='27', cost='350', min_gpu='5700', curve='no',aspect='wide', special='P variant has adjustable stand', reviews=' https://www.rtings.com/monitor/reviews/msi/optix-g273qf https://www.youtube.com/watch?v=nnsstM_3a00 '),\n",
       "  Monitor(name='Dell S2721DGF', res='2560x1440p', rr='165hz', panel='IPS', size='27', cost='380', min_gpu='5700', curve='no',aspect='wide', special='nan', reviews=' https://www.rtings.com/monitor/reviews/dell/s2721dgf https://www.youtube.com/watch?v=D3vbqyjgPpY'),\n",
       "  Monitor(name='Gigabyte M32Q', res='2560x1440p', rr='170hz', panel='IPS', size='32', cost='400', min_gpu='5700', curve='no',aspect='wide', special='nan', reviews=' https://www.rtings.com/monitor/reviews/gigabyte/m32q https://www.youtube.com/watch?v=tS7HYqepUZI '),\n",
       "  Monitor(name='LG 27GP850/27GP83B', res='2560x1440p', rr='180hz', panel='IPS', size='27', cost='430', min_gpu='5700', curve='no',aspect='wide', special='nan', reviews=' https://www.rtings.com/monitor/reviews/lg/27gp850-b-27gp83b-b '),\n",
       "  Monitor(name='Gigabyte M27Q-X', res='2560x1440p', rr='240hz', panel='IPS', size='27', cost='450', min_gpu='5700', curve='no',aspect='wide', special='nan', reviews=' https://www.rtings.com/monitor/reviews/gigabyte/m27q-x https://www.youtube.com/watch?v=dDPq0uHNTyo https://www.youtube.com/watch?v=x6dHt4nXZ-Q'),\n",
       "  Monitor(name='Dell AW2723DF', res='2560x1440p', rr='280hz', panel='IPS', size='27', cost='600', min_gpu='5700', curve='no',aspect='wide', special='nan', reviews=' https://www.rtings.com/monitor/reviews/dell/alienware-aw2723df https://www.youtube.com/watch?v=q-xF3uHQKm4'),\n",
       "  Monitor(name='Dell AW2721D', res='2560x1440p', rr='240hz', panel='IPS', size='27', cost='600', min_gpu='5700', curve='no',aspect='wide', special='brighter than 23DF and has Gsync module but more overshoot', reviews=' https://www.rtings.com/monitor/tools/compare/dell-alienware-aw2721d-vs-dell-alienware-aw2723df/20236/34684?usage=3623&threshold=0.10 '),\n",
       "  Monitor(name='Asus PG279QM', res='2560x1440p', rr='240hz', panel='IPS', size='27', cost='750', min_gpu='5700', curve='no',aspect='wide', special='GSync module; best in class', reviews=' https://www.youtube.com/watch?v=Th3LLfm7nl0 https://www.rtings.com/monitor/reviews/asus/rog-swift-pg279qm')]}"
      ]
     },
     "execution_count": 130,
     "metadata": {},
     "output_type": "execute_result"
    }
   ],
   "source": [
    "recommender._data"
   ]
  },
  {
   "cell_type": "code",
   "execution_count": null,
   "metadata": {},
   "outputs": [],
   "source": []
  }
 ],
 "metadata": {
  "kernelspec": {
   "display_name": "Python 3",
   "language": "python",
   "name": "python3"
  },
  "language_info": {
   "codemirror_mode": {
    "name": "ipython",
    "version": 3
   },
   "file_extension": ".py",
   "mimetype": "text/x-python",
   "name": "python",
   "nbconvert_exporter": "python",
   "pygments_lexer": "ipython3",
   "version": "3.9.16"
  },
  "orig_nbformat": 4,
  "vscode": {
   "interpreter": {
    "hash": "a665b5d41d17b532ea9890333293a1b812fa0b73c9c25c950b3cedf1bebd0438"
   }
  }
 },
 "nbformat": 4,
 "nbformat_minor": 2
}
